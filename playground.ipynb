{
 "cells": [
  {
   "cell_type": "code",
   "execution_count": 2,
   "metadata": {},
   "outputs": [],
   "source": [
    "from gliner import GLiNER"
   ]
  },
  {
   "cell_type": "code",
   "execution_count": 3,
   "metadata": {},
   "outputs": [
    {
     "data": {
      "application/vnd.jupyter.widget-view+json": {
       "model_id": "ca44687ebb9843a4a70b017251dad51d",
       "version_major": 2,
       "version_minor": 0
      },
      "text/plain": [
       "Fetching 4 files:   0%|          | 0/4 [00:00<?, ?it/s]"
      ]
     },
     "metadata": {},
     "output_type": "display_data"
    },
    {
     "name": "stderr",
     "output_type": "stream",
     "text": [
      "c:\\Users\\jonas\\anaconda3\\envs\\DSL_NER\\Lib\\site-packages\\transformers\\convert_slow_tokenizer.py:558: UserWarning: The sentencepiece tokenizer that you are converting to a fast tokenizer uses the byte fallback option which is not implemented in the fast tokenizers. In practice this means that the fast version of the tokenizer can produce unknown tokens whereas the sentencepiece version would have converted these unknown tokens into a sequence of byte tokens matching the original piece of text.\n",
      "  warnings.warn(\n"
     ]
    }
   ],
   "source": [
    "model = GLiNER.from_pretrained(\"urchade/gliner_multi-v2.1\")"
   ]
  },
  {
   "cell_type": "code",
   "execution_count": 4,
   "metadata": {},
   "outputs": [
    {
     "data": {
      "text/plain": [
       "GLiNERConfig {\n",
       "  \"class_token_index\": 250103,\n",
       "  \"dropout\": 0.4,\n",
       "  \"embed_ent_token\": true,\n",
       "  \"encoder_config\": {\n",
       "    \"_name_or_path\": \"microsoft/mdeberta-v3-base\",\n",
       "    \"add_cross_attention\": false,\n",
       "    \"architectures\": null,\n",
       "    \"attention_probs_dropout_prob\": 0.1,\n",
       "    \"bad_words_ids\": null,\n",
       "    \"begin_suppress_tokens\": null,\n",
       "    \"bos_token_id\": null,\n",
       "    \"chunk_size_feed_forward\": 0,\n",
       "    \"cross_attention_hidden_size\": null,\n",
       "    \"decoder_start_token_id\": null,\n",
       "    \"diversity_penalty\": 0.0,\n",
       "    \"do_sample\": false,\n",
       "    \"early_stopping\": false,\n",
       "    \"encoder_no_repeat_ngram_size\": 0,\n",
       "    \"eos_token_id\": null,\n",
       "    \"exponential_decay_length_penalty\": null,\n",
       "    \"finetuning_task\": null,\n",
       "    \"forced_bos_token_id\": null,\n",
       "    \"forced_eos_token_id\": null,\n",
       "    \"hidden_act\": \"gelu\",\n",
       "    \"hidden_dropout_prob\": 0.1,\n",
       "    \"hidden_size\": 768,\n",
       "    \"id2label\": {\n",
       "      \"0\": \"LABEL_0\",\n",
       "      \"1\": \"LABEL_1\"\n",
       "    },\n",
       "    \"initializer_range\": 0.02,\n",
       "    \"intermediate_size\": 3072,\n",
       "    \"is_decoder\": false,\n",
       "    \"is_encoder_decoder\": false,\n",
       "    \"label2id\": {\n",
       "      \"LABEL_0\": 0,\n",
       "      \"LABEL_1\": 1\n",
       "    },\n",
       "    \"layer_norm_eps\": 1e-07,\n",
       "    \"length_penalty\": 1.0,\n",
       "    \"max_length\": 20,\n",
       "    \"max_position_embeddings\": 512,\n",
       "    \"max_relative_positions\": -1,\n",
       "    \"min_length\": 0,\n",
       "    \"model_type\": \"deberta-v2\",\n",
       "    \"no_repeat_ngram_size\": 0,\n",
       "    \"norm_rel_ebd\": \"layer_norm\",\n",
       "    \"num_attention_heads\": 12,\n",
       "    \"num_beam_groups\": 1,\n",
       "    \"num_beams\": 1,\n",
       "    \"num_hidden_layers\": 12,\n",
       "    \"num_return_sequences\": 1,\n",
       "    \"output_attentions\": false,\n",
       "    \"output_hidden_states\": false,\n",
       "    \"output_scores\": false,\n",
       "    \"pad_token_id\": 0,\n",
       "    \"pooler_dropout\": 0,\n",
       "    \"pooler_hidden_act\": \"gelu\",\n",
       "    \"pooler_hidden_size\": 768,\n",
       "    \"pos_att_type\": [\n",
       "      \"p2c\",\n",
       "      \"c2p\"\n",
       "    ],\n",
       "    \"position_biased_input\": false,\n",
       "    \"position_buckets\": 256,\n",
       "    \"prefix\": null,\n",
       "    \"problem_type\": null,\n",
       "    \"pruned_heads\": {},\n",
       "    \"relative_attention\": true,\n",
       "    \"remove_invalid_values\": false,\n",
       "    \"repetition_penalty\": 1.0,\n",
       "    \"return_dict\": true,\n",
       "    \"return_dict_in_generate\": false,\n",
       "    \"sep_token_id\": null,\n",
       "    \"share_att_key\": true,\n",
       "    \"suppress_tokens\": null,\n",
       "    \"task_specific_params\": null,\n",
       "    \"temperature\": 1.0,\n",
       "    \"tf_legacy_loss\": false,\n",
       "    \"tie_encoder_decoder\": false,\n",
       "    \"tie_word_embeddings\": true,\n",
       "    \"tokenizer_class\": null,\n",
       "    \"top_k\": 50,\n",
       "    \"top_p\": 1.0,\n",
       "    \"torch_dtype\": null,\n",
       "    \"torchscript\": false,\n",
       "    \"type_vocab_size\": 0,\n",
       "    \"typical_p\": 1.0,\n",
       "    \"use_bfloat16\": false,\n",
       "    \"vocab_size\": 250105\n",
       "  },\n",
       "  \"ent_token\": \"<<ENT>>\",\n",
       "  \"eval_every\": 5000,\n",
       "  \"fine_tune\": true,\n",
       "  \"fuse_layers\": false,\n",
       "  \"has_rnn\": true,\n",
       "  \"hidden_size\": 512,\n",
       "  \"labels_encoder\": null,\n",
       "  \"labels_encoder_config\": null,\n",
       "  \"lr_encoder\": \"1e-5\",\n",
       "  \"lr_others\": \"5e-5\",\n",
       "  \"max_len\": 384,\n",
       "  \"max_neg_type_ratio\": 1,\n",
       "  \"max_types\": 25,\n",
       "  \"max_width\": 12,\n",
       "  \"model_name\": \"microsoft/mdeberta-v3-base\",\n",
       "  \"model_type\": \"gliner\",\n",
       "  \"name\": \"correct\",\n",
       "  \"num_post_fusion_layers\": 1,\n",
       "  \"num_steps\": 30000,\n",
       "  \"post_fusion_schema\": \"\",\n",
       "  \"random_drop\": true,\n",
       "  \"sep_token\": \"<<SEP>>\",\n",
       "  \"shuffle_types\": true,\n",
       "  \"size_sup\": -1,\n",
       "  \"span_mode\": \"markerV0\",\n",
       "  \"subtoken_pooling\": \"first\",\n",
       "  \"train_batch_size\": 8,\n",
       "  \"transformers_version\": \"4.45.2\",\n",
       "  \"vocab_size\": 250105,\n",
       "  \"warmup_ratio\": 3000,\n",
       "  \"words_splitter_type\": \"whitespace\"\n",
       "}"
      ]
     },
     "execution_count": 4,
     "metadata": {},
     "output_type": "execute_result"
    }
   ],
   "source": [
    "model.config"
   ]
  },
  {
   "cell_type": "code",
   "execution_count": 5,
   "metadata": {},
   "outputs": [],
   "source": [
    "model.config.max_neg_type_ratio = 3"
   ]
  },
  {
   "cell_type": "code",
   "execution_count": 6,
   "metadata": {},
   "outputs": [
    {
     "data": {
      "text/plain": [
       "GLiNERConfig {\n",
       "  \"class_token_index\": 250103,\n",
       "  \"dropout\": 0.4,\n",
       "  \"embed_ent_token\": true,\n",
       "  \"encoder_config\": {\n",
       "    \"_name_or_path\": \"microsoft/mdeberta-v3-base\",\n",
       "    \"add_cross_attention\": false,\n",
       "    \"architectures\": null,\n",
       "    \"attention_probs_dropout_prob\": 0.1,\n",
       "    \"bad_words_ids\": null,\n",
       "    \"begin_suppress_tokens\": null,\n",
       "    \"bos_token_id\": null,\n",
       "    \"chunk_size_feed_forward\": 0,\n",
       "    \"cross_attention_hidden_size\": null,\n",
       "    \"decoder_start_token_id\": null,\n",
       "    \"diversity_penalty\": 0.0,\n",
       "    \"do_sample\": false,\n",
       "    \"early_stopping\": false,\n",
       "    \"encoder_no_repeat_ngram_size\": 0,\n",
       "    \"eos_token_id\": null,\n",
       "    \"exponential_decay_length_penalty\": null,\n",
       "    \"finetuning_task\": null,\n",
       "    \"forced_bos_token_id\": null,\n",
       "    \"forced_eos_token_id\": null,\n",
       "    \"hidden_act\": \"gelu\",\n",
       "    \"hidden_dropout_prob\": 0.1,\n",
       "    \"hidden_size\": 768,\n",
       "    \"id2label\": {\n",
       "      \"0\": \"LABEL_0\",\n",
       "      \"1\": \"LABEL_1\"\n",
       "    },\n",
       "    \"initializer_range\": 0.02,\n",
       "    \"intermediate_size\": 3072,\n",
       "    \"is_decoder\": false,\n",
       "    \"is_encoder_decoder\": false,\n",
       "    \"label2id\": {\n",
       "      \"LABEL_0\": 0,\n",
       "      \"LABEL_1\": 1\n",
       "    },\n",
       "    \"layer_norm_eps\": 1e-07,\n",
       "    \"length_penalty\": 1.0,\n",
       "    \"max_length\": 20,\n",
       "    \"max_position_embeddings\": 512,\n",
       "    \"max_relative_positions\": -1,\n",
       "    \"min_length\": 0,\n",
       "    \"model_type\": \"deberta-v2\",\n",
       "    \"no_repeat_ngram_size\": 0,\n",
       "    \"norm_rel_ebd\": \"layer_norm\",\n",
       "    \"num_attention_heads\": 12,\n",
       "    \"num_beam_groups\": 1,\n",
       "    \"num_beams\": 1,\n",
       "    \"num_hidden_layers\": 12,\n",
       "    \"num_return_sequences\": 1,\n",
       "    \"output_attentions\": false,\n",
       "    \"output_hidden_states\": false,\n",
       "    \"output_scores\": false,\n",
       "    \"pad_token_id\": 0,\n",
       "    \"pooler_dropout\": 0,\n",
       "    \"pooler_hidden_act\": \"gelu\",\n",
       "    \"pooler_hidden_size\": 768,\n",
       "    \"pos_att_type\": [\n",
       "      \"p2c\",\n",
       "      \"c2p\"\n",
       "    ],\n",
       "    \"position_biased_input\": false,\n",
       "    \"position_buckets\": 256,\n",
       "    \"prefix\": null,\n",
       "    \"problem_type\": null,\n",
       "    \"pruned_heads\": {},\n",
       "    \"relative_attention\": true,\n",
       "    \"remove_invalid_values\": false,\n",
       "    \"repetition_penalty\": 1.0,\n",
       "    \"return_dict\": true,\n",
       "    \"return_dict_in_generate\": false,\n",
       "    \"sep_token_id\": null,\n",
       "    \"share_att_key\": true,\n",
       "    \"suppress_tokens\": null,\n",
       "    \"task_specific_params\": null,\n",
       "    \"temperature\": 1.0,\n",
       "    \"tf_legacy_loss\": false,\n",
       "    \"tie_encoder_decoder\": false,\n",
       "    \"tie_word_embeddings\": true,\n",
       "    \"tokenizer_class\": null,\n",
       "    \"top_k\": 50,\n",
       "    \"top_p\": 1.0,\n",
       "    \"torch_dtype\": null,\n",
       "    \"torchscript\": false,\n",
       "    \"type_vocab_size\": 0,\n",
       "    \"typical_p\": 1.0,\n",
       "    \"use_bfloat16\": false,\n",
       "    \"vocab_size\": 250105\n",
       "  },\n",
       "  \"ent_token\": \"<<ENT>>\",\n",
       "  \"eval_every\": 5000,\n",
       "  \"fine_tune\": true,\n",
       "  \"fuse_layers\": false,\n",
       "  \"has_rnn\": true,\n",
       "  \"hidden_size\": 512,\n",
       "  \"labels_encoder\": null,\n",
       "  \"labels_encoder_config\": null,\n",
       "  \"lr_encoder\": \"1e-5\",\n",
       "  \"lr_others\": \"5e-5\",\n",
       "  \"max_len\": 384,\n",
       "  \"max_neg_type_ratio\": 3,\n",
       "  \"max_types\": 25,\n",
       "  \"max_width\": 12,\n",
       "  \"model_name\": \"microsoft/mdeberta-v3-base\",\n",
       "  \"model_type\": \"gliner\",\n",
       "  \"name\": \"correct\",\n",
       "  \"num_post_fusion_layers\": 1,\n",
       "  \"num_steps\": 30000,\n",
       "  \"post_fusion_schema\": \"\",\n",
       "  \"random_drop\": true,\n",
       "  \"sep_token\": \"<<SEP>>\",\n",
       "  \"shuffle_types\": true,\n",
       "  \"size_sup\": -1,\n",
       "  \"span_mode\": \"markerV0\",\n",
       "  \"subtoken_pooling\": \"first\",\n",
       "  \"train_batch_size\": 8,\n",
       "  \"transformers_version\": \"4.45.2\",\n",
       "  \"vocab_size\": 250105,\n",
       "  \"warmup_ratio\": 3000,\n",
       "  \"words_splitter_type\": \"whitespace\"\n",
       "}"
      ]
     },
     "execution_count": 6,
     "metadata": {},
     "output_type": "execute_result"
    }
   ],
   "source": [
    "model.config"
   ]
  },
  {
   "cell_type": "code",
   "execution_count": null,
   "metadata": {},
   "outputs": [],
   "source": [
    "#how to compute a compute metrics during evaluation    \n",
    "\n",
    "\n",
    "def evaluate(self, test_data, flat_ner=False, multi_label=False, threshold=0.5, batch_size=12, entity_types=None):\n",
    "        self.eval()\n",
    "        data_loader = self.create_dataloader(test_data, batch_size=batch_size, entity_types=entity_types, shuffle=False)\n",
    "        device = next(self.parameters()).device\n",
    "        all_preds = []\n",
    "        all_trues = []\n",
    "        for x in data_loader:\n",
    "            for k, v in x.items():\n",
    "                if isinstance(v, torch.Tensor):\n",
    "                    x[k] = v.to(device)\n",
    "            batch_predictions = self.predict(x, flat_ner, threshold, multi_label)\n",
    "            all_preds.extend(batch_predictions)\n",
    "            all_trues.extend(x[\"entities\"])\n",
    "        evaluator = Evaluator(all_trues, all_preds)\n",
    "        out, f1 = evaluator.evaluate()\n",
    "        return out, f1"
   ]
  },
  {
   "cell_type": "code",
   "execution_count": 11,
   "metadata": {},
   "outputs": [],
   "source": [
    "from huggingface_hub import HfApi\n",
    "api = HfApi()"
   ]
  },
  {
   "cell_type": "code",
   "execution_count": 17,
   "metadata": {},
   "outputs": [
    {
     "name": "stdout",
     "output_type": "stream",
     "text": [
      "^C\n"
     ]
    }
   ],
   "source": [
    "!huggingface-cli login"
   ]
  },
  {
   "cell_type": "code",
   "execution_count": 18,
   "metadata": {},
   "outputs": [
    {
     "name": "stdout",
     "output_type": "stream",
     "text": [
      "Error importing huggingface_hub._login: cannot import name 'is_colab_enterprise' from 'huggingface_hub.utils._runtime' (c:\\Users\\jonas\\anaconda3\\envs\\DSL_NER\\Lib\\site-packages\\huggingface_hub\\utils\\_runtime.py)\n"
     ]
    },
    {
     "ename": "ImportError",
     "evalue": "cannot import name 'is_colab_enterprise' from 'huggingface_hub.utils._runtime' (c:\\Users\\jonas\\anaconda3\\envs\\DSL_NER\\Lib\\site-packages\\huggingface_hub\\utils\\_runtime.py)",
     "output_type": "error",
     "traceback": [
      "\u001b[1;31m---------------------------------------------------------------------------\u001b[0m",
      "\u001b[1;31mImportError\u001b[0m                               Traceback (most recent call last)",
      "Cell \u001b[1;32mIn[18], line 1\u001b[0m\n\u001b[1;32m----> 1\u001b[0m \u001b[38;5;28;01mfrom\u001b[39;00m \u001b[38;5;21;01mhuggingface_hub\u001b[39;00m \u001b[38;5;28;01mimport\u001b[39;00m login\n",
      "File \u001b[1;32mc:\\Users\\jonas\\anaconda3\\envs\\DSL_NER\\Lib\\site-packages\\huggingface_hub\\__init__.py:520\u001b[0m, in \u001b[0;36m__getattr__\u001b[1;34m(name)\u001b[0m\n\u001b[0;32m    485\u001b[0m \u001b[38;5;28;01mdef\u001b[39;00m \u001b[38;5;21m_attach\u001b[39m(package_name, submodules\u001b[38;5;241m=\u001b[39m\u001b[38;5;28;01mNone\u001b[39;00m, submod_attrs\u001b[38;5;241m=\u001b[39m\u001b[38;5;28;01mNone\u001b[39;00m):\n\u001b[0;32m    486\u001b[0m \u001b[38;5;250m    \u001b[39m\u001b[38;5;124;03m\"\"\"Attach lazily loaded submodules, functions, or other attributes.\u001b[39;00m\n\u001b[0;32m    487\u001b[0m \n\u001b[0;32m    488\u001b[0m \u001b[38;5;124;03m    Typically, modules import submodules and attributes as follows:\u001b[39;00m\n\u001b[0;32m    489\u001b[0m \n\u001b[0;32m    490\u001b[0m \u001b[38;5;124;03m    ```py\u001b[39;00m\n\u001b[0;32m    491\u001b[0m \u001b[38;5;124;03m    import mysubmodule\u001b[39;00m\n\u001b[0;32m    492\u001b[0m \u001b[38;5;124;03m    import anothersubmodule\u001b[39;00m\n\u001b[0;32m    493\u001b[0m \n\u001b[0;32m    494\u001b[0m \u001b[38;5;124;03m    from .foo import someattr\u001b[39;00m\n\u001b[0;32m    495\u001b[0m \u001b[38;5;124;03m    ```\u001b[39;00m\n\u001b[0;32m    496\u001b[0m \n\u001b[0;32m    497\u001b[0m \u001b[38;5;124;03m    The idea is to replace a package's `__getattr__`, `__dir__`, and\u001b[39;00m\n\u001b[0;32m    498\u001b[0m \u001b[38;5;124;03m    `__all__`, such that all imports work exactly the way they would\u001b[39;00m\n\u001b[0;32m    499\u001b[0m \u001b[38;5;124;03m    with normal imports, except that the import occurs upon first use.\u001b[39;00m\n\u001b[0;32m    500\u001b[0m \n\u001b[0;32m    501\u001b[0m \u001b[38;5;124;03m    The typical way to call this function, replacing the above imports, is:\u001b[39;00m\n\u001b[0;32m    502\u001b[0m \n\u001b[0;32m    503\u001b[0m \u001b[38;5;124;03m    ```python\u001b[39;00m\n\u001b[0;32m    504\u001b[0m \u001b[38;5;124;03m    __getattr__, __dir__, __all__ = lazy.attach(\u001b[39;00m\n\u001b[0;32m    505\u001b[0m \u001b[38;5;124;03m        __name__,\u001b[39;00m\n\u001b[0;32m    506\u001b[0m \u001b[38;5;124;03m        ['mysubmodule', 'anothersubmodule'],\u001b[39;00m\n\u001b[0;32m    507\u001b[0m \u001b[38;5;124;03m        {'foo': ['someattr']}\u001b[39;00m\n\u001b[0;32m    508\u001b[0m \u001b[38;5;124;03m    )\u001b[39;00m\n\u001b[0;32m    509\u001b[0m \u001b[38;5;124;03m    ```\u001b[39;00m\n\u001b[0;32m    510\u001b[0m \u001b[38;5;124;03m    This functionality requires Python 3.7 or higher.\u001b[39;00m\n\u001b[0;32m    511\u001b[0m \n\u001b[0;32m    512\u001b[0m \u001b[38;5;124;03m    Args:\u001b[39;00m\n\u001b[0;32m    513\u001b[0m \u001b[38;5;124;03m        package_name (`str`):\u001b[39;00m\n\u001b[0;32m    514\u001b[0m \u001b[38;5;124;03m            Typically use `__name__`.\u001b[39;00m\n\u001b[0;32m    515\u001b[0m \u001b[38;5;124;03m        submodules (`set`):\u001b[39;00m\n\u001b[0;32m    516\u001b[0m \u001b[38;5;124;03m            List of submodules to attach.\u001b[39;00m\n\u001b[0;32m    517\u001b[0m \u001b[38;5;124;03m        submod_attrs (`dict`):\u001b[39;00m\n\u001b[0;32m    518\u001b[0m \u001b[38;5;124;03m            Dictionary of submodule -> list of attributes / functions.\u001b[39;00m\n\u001b[0;32m    519\u001b[0m \u001b[38;5;124;03m            These attributes are imported as they are used.\u001b[39;00m\n\u001b[1;32m--> 520\u001b[0m \n\u001b[0;32m    521\u001b[0m \u001b[38;5;124;03m    Returns:\u001b[39;00m\n\u001b[0;32m    522\u001b[0m \u001b[38;5;124;03m        __getattr__, __dir__, __all__\u001b[39;00m\n\u001b[0;32m    523\u001b[0m \n\u001b[0;32m    524\u001b[0m \u001b[38;5;124;03m    \"\"\"\u001b[39;00m\n\u001b[0;32m    525\u001b[0m     \u001b[38;5;28;01mif\u001b[39;00m submod_attrs \u001b[38;5;129;01mis\u001b[39;00m \u001b[38;5;28;01mNone\u001b[39;00m:\n\u001b[0;32m    526\u001b[0m         submod_attrs \u001b[38;5;241m=\u001b[39m {}\n",
      "File \u001b[1;32mc:\\Users\\jonas\\anaconda3\\envs\\DSL_NER\\Lib\\importlib\\__init__.py:126\u001b[0m, in \u001b[0;36mimport_module\u001b[1;34m(name, package)\u001b[0m\n\u001b[0;32m    124\u001b[0m             \u001b[38;5;28;01mbreak\u001b[39;00m\n\u001b[0;32m    125\u001b[0m         level \u001b[38;5;241m+\u001b[39m\u001b[38;5;241m=\u001b[39m \u001b[38;5;241m1\u001b[39m\n\u001b[1;32m--> 126\u001b[0m \u001b[38;5;28;01mreturn\u001b[39;00m _bootstrap\u001b[38;5;241m.\u001b[39m_gcd_import(name[level:], package, level)\n",
      "File \u001b[1;32mc:\\Users\\jonas\\anaconda3\\envs\\DSL_NER\\Lib\\site-packages\\huggingface_hub\\_login.py:36\u001b[0m\n\u001b[0;32m     24\u001b[0m \u001b[38;5;28;01mfrom\u001b[39;00m \u001b[38;5;21;01m.\u001b[39;00m\u001b[38;5;21;01mcommands\u001b[39;00m\u001b[38;5;21;01m.\u001b[39;00m\u001b[38;5;21;01m_cli_utils\u001b[39;00m \u001b[38;5;28;01mimport\u001b[39;00m ANSI\n\u001b[0;32m     25\u001b[0m \u001b[38;5;28;01mfrom\u001b[39;00m \u001b[38;5;21;01m.\u001b[39;00m\u001b[38;5;21;01mutils\u001b[39;00m \u001b[38;5;28;01mimport\u001b[39;00m (\n\u001b[0;32m     26\u001b[0m     capture_output,\n\u001b[0;32m     27\u001b[0m     get_token,\n\u001b[1;32m   (...)\u001b[0m\n\u001b[0;32m     34\u001b[0m     unset_git_credential,\n\u001b[0;32m     35\u001b[0m )\n\u001b[1;32m---> 36\u001b[0m \u001b[38;5;28;01mfrom\u001b[39;00m \u001b[38;5;21;01m.\u001b[39;00m\u001b[38;5;21;01mutils\u001b[39;00m\u001b[38;5;21;01m.\u001b[39;00m\u001b[38;5;21;01m_auth\u001b[39;00m \u001b[38;5;28;01mimport\u001b[39;00m (\n\u001b[0;32m     37\u001b[0m     _get_token_by_name,\n\u001b[0;32m     38\u001b[0m     _get_token_from_environment,\n\u001b[0;32m     39\u001b[0m     _get_token_from_file,\n\u001b[0;32m     40\u001b[0m     _get_token_from_google_colab,\n\u001b[0;32m     41\u001b[0m     _save_stored_tokens,\n\u001b[0;32m     42\u001b[0m     _save_token,\n\u001b[0;32m     43\u001b[0m     get_stored_tokens,\n\u001b[0;32m     44\u001b[0m )\n\u001b[0;32m     47\u001b[0m logger \u001b[38;5;241m=\u001b[39m logging\u001b[38;5;241m.\u001b[39mget_logger(\u001b[38;5;18m__name__\u001b[39m)\n\u001b[0;32m     49\u001b[0m _HF_LOGO_ASCII \u001b[38;5;241m=\u001b[39m \u001b[38;5;124m\"\"\"\u001b[39m\n\u001b[0;32m     50\u001b[0m \u001b[38;5;124m    _|    _|  _|    _|    _|_|_|    _|_|_|  _|_|_|  _|      _|    _|_|_|      _|_|_|_|    _|_|      _|_|_|  _|_|_|_|\u001b[39m\n\u001b[0;32m     51\u001b[0m \u001b[38;5;124m    _|    _|  _|    _|  _|        _|          _|    _|_|    _|  _|            _|        _|    _|  _|        _|\u001b[39m\n\u001b[1;32m   (...)\u001b[0m\n\u001b[0;32m     54\u001b[0m \u001b[38;5;124m    _|    _|    _|_|      _|_|_|    _|_|_|  _|_|_|  _|      _|    _|_|_|      _|        _|    _|    _|_|_|  _|_|_|_|\u001b[39m\n\u001b[0;32m     55\u001b[0m \u001b[38;5;124m\"\"\"\u001b[39m\n",
      "File \u001b[1;32mc:\\Users\\jonas\\anaconda3\\envs\\DSL_NER\\Lib\\site-packages\\huggingface_hub\\utils\\_auth.py:25\u001b[0m\n\u001b[0;32m     22\u001b[0m \u001b[38;5;28;01mfrom\u001b[39;00m \u001b[38;5;21;01mtyping\u001b[39;00m \u001b[38;5;28;01mimport\u001b[39;00m Dict, Optional\n\u001b[0;32m     24\u001b[0m \u001b[38;5;28;01mfrom\u001b[39;00m \u001b[38;5;21;01m.\u001b[39;00m\u001b[38;5;21;01m.\u001b[39;00m \u001b[38;5;28;01mimport\u001b[39;00m constants\n\u001b[1;32m---> 25\u001b[0m \u001b[38;5;28;01mfrom\u001b[39;00m \u001b[38;5;21;01m.\u001b[39;00m\u001b[38;5;21;01m_runtime\u001b[39;00m \u001b[38;5;28;01mimport\u001b[39;00m is_colab_enterprise, is_google_colab\n\u001b[0;32m     28\u001b[0m _IS_GOOGLE_COLAB_CHECKED \u001b[38;5;241m=\u001b[39m \u001b[38;5;28;01mFalse\u001b[39;00m\n\u001b[0;32m     29\u001b[0m _GOOGLE_COLAB_SECRET_LOCK \u001b[38;5;241m=\u001b[39m Lock()\n",
      "\u001b[1;31mImportError\u001b[0m: cannot import name 'is_colab_enterprise' from 'huggingface_hub.utils._runtime' (c:\\Users\\jonas\\anaconda3\\envs\\DSL_NER\\Lib\\site-packages\\huggingface_hub\\utils\\_runtime.py)"
     ]
    }
   ],
   "source": [
    "from huggingface_hub import login"
   ]
  },
  {
   "cell_type": "code",
   "execution_count": 16,
   "metadata": {},
   "outputs": [
    {
     "ename": "LocalTokenNotFoundError",
     "evalue": "Token is required (`token=True`), but no token found. You need to provide a token or be logged in to Hugging Face with `huggingface-cli login` or `huggingface_hub.login`. See https://huggingface.co/settings/tokens.",
     "output_type": "error",
     "traceback": [
      "\u001b[1;31m---------------------------------------------------------------------------\u001b[0m",
      "\u001b[1;31mLocalTokenNotFoundError\u001b[0m                   Traceback (most recent call last)",
      "Cell \u001b[1;32mIn[16], line 1\u001b[0m\n\u001b[1;32m----> 1\u001b[0m api\u001b[38;5;241m.\u001b[39mwhoami()\n",
      "File \u001b[1;32mc:\\Users\\jonas\\anaconda3\\envs\\DSL_NER\\Lib\\site-packages\\huggingface_hub\\utils\\_validators.py:114\u001b[0m, in \u001b[0;36mvalidate_hf_hub_args.<locals>._inner_fn\u001b[1;34m(*args, **kwargs)\u001b[0m\n\u001b[0;32m    111\u001b[0m \u001b[38;5;28;01mif\u001b[39;00m check_use_auth_token:\n\u001b[0;32m    112\u001b[0m     kwargs \u001b[38;5;241m=\u001b[39m smoothly_deprecate_use_auth_token(fn_name\u001b[38;5;241m=\u001b[39mfn\u001b[38;5;241m.\u001b[39m\u001b[38;5;18m__name__\u001b[39m, has_token\u001b[38;5;241m=\u001b[39mhas_token, kwargs\u001b[38;5;241m=\u001b[39mkwargs)\n\u001b[1;32m--> 114\u001b[0m \u001b[38;5;28;01mreturn\u001b[39;00m fn(\u001b[38;5;241m*\u001b[39margs, \u001b[38;5;241m*\u001b[39m\u001b[38;5;241m*\u001b[39mkwargs)\n",
      "File \u001b[1;32mc:\\Users\\jonas\\anaconda3\\envs\\DSL_NER\\Lib\\site-packages\\huggingface_hub\\hf_api.py:1502\u001b[0m, in \u001b[0;36mwhoami\u001b[1;34m(self, token)\u001b[0m\n\u001b[0;32m   1500\u001b[0m published_at: Optional[datetime]\n\u001b[0;32m   1501\u001b[0m title: Optional[\u001b[38;5;28mstr\u001b[39m]\n\u001b[1;32m-> 1502\u001b[0m summary: Optional[\u001b[38;5;28mstr\u001b[39m]\n\u001b[0;32m   1503\u001b[0m upvotes: Optional[\u001b[38;5;28mint\u001b[39m]\n\u001b[0;32m   1504\u001b[0m discussion_id: Optional[\u001b[38;5;28mstr\u001b[39m]\n",
      "File \u001b[1;32mc:\\Users\\jonas\\anaconda3\\envs\\DSL_NER\\Lib\\site-packages\\huggingface_hub\\hf_api.py:9072\u001b[0m, in \u001b[0;36m_build_hf_headers\u001b[1;34m(self, token, is_write_action, library_name, library_version, user_agent)\u001b[0m\n\u001b[0;32m   9068\u001b[0m \u001b[38;5;28;01mif\u001b[39;00m repo_type \u001b[38;5;129;01mis\u001b[39;00m \u001b[38;5;28;01mNone\u001b[39;00m:\n\u001b[0;32m   9069\u001b[0m     repo_type \u001b[38;5;241m=\u001b[39m constants\u001b[38;5;241m.\u001b[39mREPO_TYPE_MODEL\n\u001b[0;32m   9071\u001b[0m response \u001b[38;5;241m=\u001b[39m get_session()\u001b[38;5;241m.\u001b[39mpost(\n\u001b[1;32m-> 9072\u001b[0m     \u001b[38;5;124mf\u001b[39m\u001b[38;5;124m\"\u001b[39m\u001b[38;5;132;01m{\u001b[39;00mconstants\u001b[38;5;241m.\u001b[39mENDPOINT\u001b[38;5;132;01m}\u001b[39;00m\u001b[38;5;124m/api/\u001b[39m\u001b[38;5;132;01m{\u001b[39;00mrepo_type\u001b[38;5;132;01m}\u001b[39;00m\u001b[38;5;124ms/\u001b[39m\u001b[38;5;132;01m{\u001b[39;00mrepo_id\u001b[38;5;132;01m}\u001b[39;00m\u001b[38;5;124m/user-access-request/grant\u001b[39m\u001b[38;5;124m\"\u001b[39m,\n\u001b[0;32m   9073\u001b[0m     headers\u001b[38;5;241m=\u001b[39m\u001b[38;5;28mself\u001b[39m\u001b[38;5;241m.\u001b[39m_build_hf_headers(token\u001b[38;5;241m=\u001b[39mtoken),\n\u001b[0;32m   9074\u001b[0m     json\u001b[38;5;241m=\u001b[39m{\u001b[38;5;124m\"\u001b[39m\u001b[38;5;124muser\u001b[39m\u001b[38;5;124m\"\u001b[39m: user},\n\u001b[0;32m   9075\u001b[0m )\n\u001b[0;32m   9076\u001b[0m hf_raise_for_status(response)\n\u001b[0;32m   9077\u001b[0m \u001b[38;5;28;01mreturn\u001b[39;00m response\u001b[38;5;241m.\u001b[39mjson()\n",
      "File \u001b[1;32mc:\\Users\\jonas\\anaconda3\\envs\\DSL_NER\\Lib\\site-packages\\huggingface_hub\\utils\\_validators.py:114\u001b[0m, in \u001b[0;36mvalidate_hf_hub_args.<locals>._inner_fn\u001b[1;34m(*args, **kwargs)\u001b[0m\n\u001b[0;32m    111\u001b[0m \u001b[38;5;28;01mif\u001b[39;00m check_use_auth_token:\n\u001b[0;32m    112\u001b[0m     kwargs \u001b[38;5;241m=\u001b[39m smoothly_deprecate_use_auth_token(fn_name\u001b[38;5;241m=\u001b[39mfn\u001b[38;5;241m.\u001b[39m\u001b[38;5;18m__name__\u001b[39m, has_token\u001b[38;5;241m=\u001b[39mhas_token, kwargs\u001b[38;5;241m=\u001b[39mkwargs)\n\u001b[1;32m--> 114\u001b[0m \u001b[38;5;28;01mreturn\u001b[39;00m fn(\u001b[38;5;241m*\u001b[39margs, \u001b[38;5;241m*\u001b[39m\u001b[38;5;241m*\u001b[39mkwargs)\n",
      "File \u001b[1;32mc:\\Users\\jonas\\anaconda3\\envs\\DSL_NER\\Lib\\site-packages\\huggingface_hub\\utils\\_headers.py:124\u001b[0m, in \u001b[0;36mbuild_hf_headers\u001b[1;34m(token, is_write_action, library_name, library_version, user_agent, headers)\u001b[0m\n\u001b[0;32m     48\u001b[0m \u001b[38;5;250m\u001b[39m\u001b[38;5;124;03m\"\"\"\u001b[39;00m\n\u001b[0;32m     49\u001b[0m \u001b[38;5;124;03mBuild headers dictionary to send in a HF Hub call.\u001b[39;00m\n\u001b[0;32m     50\u001b[0m \n\u001b[1;32m   (...)\u001b[0m\n\u001b[0;32m    121\u001b[0m \u001b[38;5;124;03m        If `token=True` but token is not saved locally.\u001b[39;00m\n\u001b[0;32m    122\u001b[0m \u001b[38;5;124;03m\"\"\"\u001b[39;00m\n\u001b[0;32m    123\u001b[0m \u001b[38;5;66;03m# Get auth token to send\u001b[39;00m\n\u001b[1;32m--> 124\u001b[0m token_to_send \u001b[38;5;241m=\u001b[39m get_token_to_send(token)\n\u001b[0;32m    125\u001b[0m _validate_token_to_send(token_to_send, is_write_action\u001b[38;5;241m=\u001b[39mis_write_action)\n\u001b[0;32m    127\u001b[0m \u001b[38;5;66;03m# Combine headers\u001b[39;00m\n",
      "File \u001b[1;32mc:\\Users\\jonas\\anaconda3\\envs\\DSL_NER\\Lib\\site-packages\\huggingface_hub\\utils\\_headers.py:158\u001b[0m, in \u001b[0;36mget_token_to_send\u001b[1;34m(token)\u001b[0m\n\u001b[0;32m    156\u001b[0m \u001b[38;5;28;01mif\u001b[39;00m token \u001b[38;5;129;01mis\u001b[39;00m \u001b[38;5;28;01mTrue\u001b[39;00m:\n\u001b[0;32m    157\u001b[0m     \u001b[38;5;28;01mif\u001b[39;00m cached_token \u001b[38;5;129;01mis\u001b[39;00m \u001b[38;5;28;01mNone\u001b[39;00m:\n\u001b[1;32m--> 158\u001b[0m         \u001b[38;5;28;01mraise\u001b[39;00m LocalTokenNotFoundError(\n\u001b[0;32m    159\u001b[0m             \u001b[38;5;124m\"\u001b[39m\u001b[38;5;124mToken is required (`token=True`), but no token found. You\u001b[39m\u001b[38;5;124m\"\u001b[39m\n\u001b[0;32m    160\u001b[0m             \u001b[38;5;124m\"\u001b[39m\u001b[38;5;124m need to provide a token or be logged in to Hugging Face with\u001b[39m\u001b[38;5;124m\"\u001b[39m\n\u001b[0;32m    161\u001b[0m             \u001b[38;5;124m\"\u001b[39m\u001b[38;5;124m `huggingface-cli login` or `huggingface_hub.login`. See\u001b[39m\u001b[38;5;124m\"\u001b[39m\n\u001b[0;32m    162\u001b[0m             \u001b[38;5;124m\"\u001b[39m\u001b[38;5;124m https://huggingface.co/settings/tokens.\u001b[39m\u001b[38;5;124m\"\u001b[39m\n\u001b[0;32m    163\u001b[0m         )\n\u001b[0;32m    164\u001b[0m     \u001b[38;5;28;01mreturn\u001b[39;00m cached_token\n\u001b[0;32m    166\u001b[0m \u001b[38;5;66;03m# Case implicit use of the token is forbidden by env variable\u001b[39;00m\n",
      "\u001b[1;31mLocalTokenNotFoundError\u001b[0m: Token is required (`token=True`), but no token found. You need to provide a token or be logged in to Hugging Face with `huggingface-cli login` or `huggingface_hub.login`. See https://huggingface.co/settings/tokens."
     ]
    }
   ],
   "source": [
    "api.whoami()"
   ]
  },
  {
   "cell_type": "code",
   "execution_count": 14,
   "metadata": {},
   "outputs": [
    {
     "ename": "RepositoryNotFoundError",
     "evalue": "401 Client Error. (Request ID: Root=1-67531950-01ed35cc559dabcf0fdaf930;17af7290-78dc-4713-827e-b1fd46e699fa)\n\nRepository Not Found for url: https://huggingface.co/api/models/jruepp/merged_v2_gliner_multi-v2.1/commit/main.\nPlease make sure you specified the correct `repo_id` and `repo_type`.\nIf you are trying to access a private or gated repo, make sure you are authenticated.\nInvalid username or password.\nNote: Creating a commit assumes that the repo already exists on the Huggingface Hub. Please use `create_repo` if it's not the case.",
     "output_type": "error",
     "traceback": [
      "\u001b[1;31m---------------------------------------------------------------------------\u001b[0m",
      "\u001b[1;31mHTTPError\u001b[0m                                 Traceback (most recent call last)",
      "File \u001b[1;32mc:\\Users\\jonas\\anaconda3\\envs\\DSL_NER\\Lib\\site-packages\\huggingface_hub\\utils\\_errors.py:304\u001b[0m, in \u001b[0;36mhf_raise_for_status\u001b[1;34m(response, endpoint_name)\u001b[0m\n",
      "File \u001b[1;32mc:\\Users\\jonas\\anaconda3\\envs\\DSL_NER\\Lib\\site-packages\\requests\\models.py:1024\u001b[0m, in \u001b[0;36mResponse.raise_for_status\u001b[1;34m(self)\u001b[0m\n\u001b[0;32m   1023\u001b[0m \u001b[38;5;28;01mif\u001b[39;00m http_error_msg:\n\u001b[1;32m-> 1024\u001b[0m     \u001b[38;5;28;01mraise\u001b[39;00m HTTPError(http_error_msg, response\u001b[38;5;241m=\u001b[39m\u001b[38;5;28mself\u001b[39m)\n",
      "\u001b[1;31mHTTPError\u001b[0m: 401 Client Error: Unauthorized for url: https://huggingface.co/api/models/jruepp/merged_v2_gliner_multi-v2.1/commit/main",
      "\nThe above exception was the direct cause of the following exception:\n",
      "\u001b[1;31mRepositoryNotFoundError\u001b[0m                   Traceback (most recent call last)",
      "Cell \u001b[1;32mIn[14], line 1\u001b[0m\n\u001b[1;32m----> 1\u001b[0m api\u001b[38;5;241m.\u001b[39mdelete_folder(\u001b[38;5;124m\"\u001b[39m\u001b[38;5;124mcheckpoint-24000\u001b[39m\u001b[38;5;124m\"\u001b[39m,\u001b[38;5;124m\"\u001b[39m\u001b[38;5;124mjruepp/merged_v2_gliner_multi-v2.1\u001b[39m\u001b[38;5;124m\"\u001b[39m)\n",
      "File \u001b[1;32mc:\\Users\\jonas\\anaconda3\\envs\\DSL_NER\\Lib\\site-packages\\huggingface_hub\\utils\\_validators.py:114\u001b[0m, in \u001b[0;36mvalidate_hf_hub_args.<locals>._inner_fn\u001b[1;34m(*args, **kwargs)\u001b[0m\n\u001b[0;32m    111\u001b[0m \u001b[38;5;28;01mif\u001b[39;00m check_use_auth_token:\n\u001b[0;32m    112\u001b[0m     kwargs \u001b[38;5;241m=\u001b[39m smoothly_deprecate_use_auth_token(fn_name\u001b[38;5;241m=\u001b[39mfn\u001b[38;5;241m.\u001b[39m\u001b[38;5;18m__name__\u001b[39m, has_token\u001b[38;5;241m=\u001b[39mhas_token, kwargs\u001b[38;5;241m=\u001b[39mkwargs)\n\u001b[1;32m--> 114\u001b[0m \u001b[38;5;28;01mreturn\u001b[39;00m fn(\u001b[38;5;241m*\u001b[39margs, \u001b[38;5;241m*\u001b[39m\u001b[38;5;241m*\u001b[39mkwargs)\n",
      "File \u001b[1;32mc:\\Users\\jonas\\anaconda3\\envs\\DSL_NER\\Lib\\site-packages\\huggingface_hub\\hf_api.py:5107\u001b[0m, in \u001b[0;36mdelete_folder\u001b[1;34m(self, path_in_repo, repo_id, token, repo_type, revision, commit_message, commit_description, create_pr, parent_commit)\u001b[0m\n\u001b[0;32m   5101\u001b[0m     \u001b[38;5;66;03m# Defining a CommitInfo object is not really relevant in this case\u001b[39;00m\n\u001b[0;32m   5102\u001b[0m     \u001b[38;5;66;03m# Let's return early with pr_url only (as string).\u001b[39;00m\n\u001b[0;32m   5103\u001b[0m     \u001b[38;5;28;01mreturn\u001b[39;00m pr_url\n\u001b[0;32m   5105\u001b[0m commit_info \u001b[38;5;241m=\u001b[39m \u001b[38;5;28mself\u001b[39m\u001b[38;5;241m.\u001b[39mcreate_commit(\n\u001b[0;32m   5106\u001b[0m     repo_type\u001b[38;5;241m=\u001b[39mrepo_type,\n\u001b[1;32m-> 5107\u001b[0m     repo_id\u001b[38;5;241m=\u001b[39mrepo_id,\n\u001b[0;32m   5108\u001b[0m     operations\u001b[38;5;241m=\u001b[39mcommit_operations,\n\u001b[0;32m   5109\u001b[0m     commit_message\u001b[38;5;241m=\u001b[39mcommit_message,\n\u001b[0;32m   5110\u001b[0m     commit_description\u001b[38;5;241m=\u001b[39mcommit_description,\n\u001b[0;32m   5111\u001b[0m     token\u001b[38;5;241m=\u001b[39mtoken,\n\u001b[0;32m   5112\u001b[0m     revision\u001b[38;5;241m=\u001b[39mrevision,\n\u001b[0;32m   5113\u001b[0m     create_pr\u001b[38;5;241m=\u001b[39mcreate_pr,\n\u001b[0;32m   5114\u001b[0m     parent_commit\u001b[38;5;241m=\u001b[39mparent_commit,\n\u001b[0;32m   5115\u001b[0m )\n\u001b[0;32m   5117\u001b[0m \u001b[38;5;66;03m# Create url to uploaded folder (for legacy return value)\u001b[39;00m\n\u001b[0;32m   5118\u001b[0m \u001b[38;5;28;01mif\u001b[39;00m create_pr \u001b[38;5;129;01mand\u001b[39;00m commit_info\u001b[38;5;241m.\u001b[39mpr_url \u001b[38;5;129;01mis\u001b[39;00m \u001b[38;5;129;01mnot\u001b[39;00m \u001b[38;5;28;01mNone\u001b[39;00m:\n",
      "File \u001b[1;32mc:\\Users\\jonas\\anaconda3\\envs\\DSL_NER\\Lib\\site-packages\\huggingface_hub\\utils\\_validators.py:114\u001b[0m, in \u001b[0;36mvalidate_hf_hub_args.<locals>._inner_fn\u001b[1;34m(*args, **kwargs)\u001b[0m\n\u001b[0;32m    111\u001b[0m \u001b[38;5;28;01mif\u001b[39;00m check_use_auth_token:\n\u001b[0;32m    112\u001b[0m     kwargs \u001b[38;5;241m=\u001b[39m smoothly_deprecate_use_auth_token(fn_name\u001b[38;5;241m=\u001b[39mfn\u001b[38;5;241m.\u001b[39m\u001b[38;5;18m__name__\u001b[39m, has_token\u001b[38;5;241m=\u001b[39mhas_token, kwargs\u001b[38;5;241m=\u001b[39mkwargs)\n\u001b[1;32m--> 114\u001b[0m \u001b[38;5;28;01mreturn\u001b[39;00m fn(\u001b[38;5;241m*\u001b[39margs, \u001b[38;5;241m*\u001b[39m\u001b[38;5;241m*\u001b[39mkwargs)\n",
      "File \u001b[1;32mc:\\Users\\jonas\\anaconda3\\envs\\DSL_NER\\Lib\\site-packages\\huggingface_hub\\hf_api.py:1398\u001b[0m, in \u001b[0;36m_inner\u001b[1;34m(self, *args, **kwargs)\u001b[0m\n\u001b[0;32m   1387\u001b[0m \u001b[38;5;129m@dataclass\u001b[39m\n\u001b[0;32m   1388\u001b[0m \u001b[38;5;28;01mclass\u001b[39;00m \u001b[38;5;21;01mUser\u001b[39;00m:\n\u001b[0;32m   1389\u001b[0m \u001b[38;5;250m    \u001b[39m\u001b[38;5;124;03m\"\"\"\u001b[39;00m\n\u001b[0;32m   1390\u001b[0m \u001b[38;5;124;03m    Contains information about a user on the Hub.\u001b[39;00m\n\u001b[0;32m   1391\u001b[0m \n\u001b[0;32m   1392\u001b[0m \u001b[38;5;124;03m    Attributes:\u001b[39;00m\n\u001b[0;32m   1393\u001b[0m \u001b[38;5;124;03m        username (`str`):\u001b[39;00m\n\u001b[0;32m   1394\u001b[0m \u001b[38;5;124;03m            Name of the user on the Hub (unique).\u001b[39;00m\n\u001b[0;32m   1395\u001b[0m \u001b[38;5;124;03m        fullname (`str`):\u001b[39;00m\n\u001b[0;32m   1396\u001b[0m \u001b[38;5;124;03m            User's full name.\u001b[39;00m\n\u001b[0;32m   1397\u001b[0m \u001b[38;5;124;03m        avatar_url (`str`):\u001b[39;00m\n\u001b[1;32m-> 1398\u001b[0m \u001b[38;5;124;03m            URL of the user's avatar.\u001b[39;00m\n\u001b[0;32m   1399\u001b[0m \u001b[38;5;124;03m        details (`str`, *optional*):\u001b[39;00m\n\u001b[0;32m   1400\u001b[0m \u001b[38;5;124;03m            User's details.\u001b[39;00m\n\u001b[0;32m   1401\u001b[0m \u001b[38;5;124;03m        is_following (`bool`, *optional*):\u001b[39;00m\n\u001b[0;32m   1402\u001b[0m \u001b[38;5;124;03m            Whether the authenticated user is following this user.\u001b[39;00m\n\u001b[0;32m   1403\u001b[0m \u001b[38;5;124;03m        is_pro (`bool`, *optional*):\u001b[39;00m\n\u001b[0;32m   1404\u001b[0m \u001b[38;5;124;03m            Whether the user is a pro user.\u001b[39;00m\n\u001b[0;32m   1405\u001b[0m \u001b[38;5;124;03m        num_models (`int`, *optional*):\u001b[39;00m\n\u001b[0;32m   1406\u001b[0m \u001b[38;5;124;03m            Number of models created by the user.\u001b[39;00m\n\u001b[0;32m   1407\u001b[0m \u001b[38;5;124;03m        num_datasets (`int`, *optional*):\u001b[39;00m\n\u001b[0;32m   1408\u001b[0m \u001b[38;5;124;03m            Number of datasets created by the user.\u001b[39;00m\n\u001b[0;32m   1409\u001b[0m \u001b[38;5;124;03m        num_spaces (`int`, *optional*):\u001b[39;00m\n\u001b[0;32m   1410\u001b[0m \u001b[38;5;124;03m            Number of spaces created by the user.\u001b[39;00m\n\u001b[0;32m   1411\u001b[0m \u001b[38;5;124;03m        num_discussions (`int`, *optional*):\u001b[39;00m\n\u001b[0;32m   1412\u001b[0m \u001b[38;5;124;03m            Number of discussions initiated by the user.\u001b[39;00m\n\u001b[0;32m   1413\u001b[0m \u001b[38;5;124;03m        num_papers (`int`, *optional*):\u001b[39;00m\n\u001b[0;32m   1414\u001b[0m \u001b[38;5;124;03m            Number of papers authored by the user.\u001b[39;00m\n\u001b[0;32m   1415\u001b[0m \u001b[38;5;124;03m        num_upvotes (`int`, *optional*):\u001b[39;00m\n\u001b[0;32m   1416\u001b[0m \u001b[38;5;124;03m            Number of upvotes received by the user.\u001b[39;00m\n\u001b[0;32m   1417\u001b[0m \u001b[38;5;124;03m        num_likes (`int`, *optional*):\u001b[39;00m\n\u001b[0;32m   1418\u001b[0m \u001b[38;5;124;03m            Number of likes given by the user.\u001b[39;00m\n\u001b[0;32m   1419\u001b[0m \u001b[38;5;124;03m        num_following (`int`, *optional*):\u001b[39;00m\n\u001b[0;32m   1420\u001b[0m \u001b[38;5;124;03m            Number of users this user is following.\u001b[39;00m\n\u001b[0;32m   1421\u001b[0m \u001b[38;5;124;03m        num_followers (`int`, *optional*):\u001b[39;00m\n\u001b[0;32m   1422\u001b[0m \u001b[38;5;124;03m            Number of users following this user.\u001b[39;00m\n\u001b[0;32m   1423\u001b[0m \u001b[38;5;124;03m        orgs (list of [`Organization`]):\u001b[39;00m\n\u001b[0;32m   1424\u001b[0m \u001b[38;5;124;03m            List of organizations the user is part of.\u001b[39;00m\n\u001b[0;32m   1425\u001b[0m \u001b[38;5;124;03m    \"\"\"\u001b[39;00m\n\u001b[0;32m   1427\u001b[0m     \u001b[38;5;66;03m# Metadata\u001b[39;00m\n\u001b[0;32m   1428\u001b[0m     username: \u001b[38;5;28mstr\u001b[39m\n",
      "File \u001b[1;32mc:\\Users\\jonas\\anaconda3\\envs\\DSL_NER\\Lib\\site-packages\\huggingface_hub\\hf_api.py:3852\u001b[0m, in \u001b[0;36mcreate_commit\u001b[1;34m(self, repo_id, operations, commit_message, commit_description, token, repo_type, revision, create_pr, num_threads, parent_commit, run_as_future)\u001b[0m\n\u001b[0;32m   3832\u001b[0m \u001b[38;5;129m@validate_hf_hub_args\u001b[39m\n\u001b[0;32m   3833\u001b[0m \u001b[38;5;129m@future_compatible\u001b[39m\n\u001b[0;32m   3834\u001b[0m \u001b[38;5;28;01mdef\u001b[39;00m \u001b[38;5;21mcreate_commit\u001b[39m(\n\u001b[1;32m   (...)\u001b[0m\n\u001b[0;32m   3847\u001b[0m     run_as_future: \u001b[38;5;28mbool\u001b[39m \u001b[38;5;241m=\u001b[39m \u001b[38;5;28;01mFalse\u001b[39;00m,\n\u001b[0;32m   3848\u001b[0m ) \u001b[38;5;241m-\u001b[39m\u001b[38;5;241m>\u001b[39m Union[CommitInfo, Future[CommitInfo]]:\n\u001b[0;32m   3849\u001b[0m \u001b[38;5;250m    \u001b[39m\u001b[38;5;124;03m\"\"\"\u001b[39;00m\n\u001b[0;32m   3850\u001b[0m \u001b[38;5;124;03m    Creates a commit in the given repo, deleting & uploading files as needed.\u001b[39;00m\n\u001b[0;32m   3851\u001b[0m \n\u001b[1;32m-> 3852\u001b[0m \u001b[38;5;124;03m    <Tip warning={true}>\u001b[39;00m\n\u001b[0;32m   3853\u001b[0m \n\u001b[0;32m   3854\u001b[0m \u001b[38;5;124;03m    The input list of `CommitOperation` will be mutated during the commit process. Do not reuse the same objects\u001b[39;00m\n\u001b[0;32m   3855\u001b[0m \u001b[38;5;124;03m    for multiple commits.\u001b[39;00m\n\u001b[0;32m   3856\u001b[0m \n\u001b[0;32m   3857\u001b[0m \u001b[38;5;124;03m    </Tip>\u001b[39;00m\n\u001b[0;32m   3858\u001b[0m \n\u001b[0;32m   3859\u001b[0m \u001b[38;5;124;03m    <Tip warning={true}>\u001b[39;00m\n\u001b[0;32m   3860\u001b[0m \n\u001b[0;32m   3861\u001b[0m \u001b[38;5;124;03m    `create_commit` assumes that the repo already exists on the Hub. If you get a\u001b[39;00m\n\u001b[0;32m   3862\u001b[0m \u001b[38;5;124;03m    Client error 404, please make sure you are authenticated and that `repo_id` and\u001b[39;00m\n\u001b[0;32m   3863\u001b[0m \u001b[38;5;124;03m    `repo_type` are set correctly. If repo does not exist, create it first using\u001b[39;00m\n\u001b[0;32m   3864\u001b[0m \u001b[38;5;124;03m    [`~hf_api.create_repo`].\u001b[39;00m\n\u001b[0;32m   3865\u001b[0m \n\u001b[0;32m   3866\u001b[0m \u001b[38;5;124;03m    </Tip>\u001b[39;00m\n\u001b[0;32m   3867\u001b[0m \n\u001b[0;32m   3868\u001b[0m \u001b[38;5;124;03m    <Tip warning={true}>\u001b[39;00m\n\u001b[0;32m   3869\u001b[0m \n\u001b[0;32m   3870\u001b[0m \u001b[38;5;124;03m    `create_commit` is limited to 25k LFS files and a 1GB payload for regular files.\u001b[39;00m\n\u001b[0;32m   3871\u001b[0m \n\u001b[0;32m   3872\u001b[0m \u001b[38;5;124;03m    </Tip>\u001b[39;00m\n\u001b[0;32m   3873\u001b[0m \n\u001b[0;32m   3874\u001b[0m \u001b[38;5;124;03m    Args:\u001b[39;00m\n\u001b[0;32m   3875\u001b[0m \u001b[38;5;124;03m        repo_id (`str`):\u001b[39;00m\n\u001b[0;32m   3876\u001b[0m \u001b[38;5;124;03m            The repository in which the commit will be created, for example:\u001b[39;00m\n\u001b[0;32m   3877\u001b[0m \u001b[38;5;124;03m            `\"username/custom_transformers\"`\u001b[39;00m\n\u001b[0;32m   3878\u001b[0m \n\u001b[0;32m   3879\u001b[0m \u001b[38;5;124;03m        operations (`Iterable` of [`~hf_api.CommitOperation`]):\u001b[39;00m\n\u001b[0;32m   3880\u001b[0m \u001b[38;5;124;03m            An iterable of operations to include in the commit, either:\u001b[39;00m\n\u001b[0;32m   3881\u001b[0m \n\u001b[0;32m   3882\u001b[0m \u001b[38;5;124;03m                - [`~hf_api.CommitOperationAdd`] to upload a file\u001b[39;00m\n\u001b[0;32m   3883\u001b[0m \u001b[38;5;124;03m                - [`~hf_api.CommitOperationDelete`] to delete a file\u001b[39;00m\n\u001b[0;32m   3884\u001b[0m \u001b[38;5;124;03m                - [`~hf_api.CommitOperationCopy`] to copy a file\u001b[39;00m\n\u001b[0;32m   3885\u001b[0m \n\u001b[0;32m   3886\u001b[0m \u001b[38;5;124;03m            Operation objects will be mutated to include information relative to the upload. Do not reuse the\u001b[39;00m\n\u001b[0;32m   3887\u001b[0m \u001b[38;5;124;03m            same objects for multiple commits.\u001b[39;00m\n\u001b[0;32m   3888\u001b[0m \n\u001b[0;32m   3889\u001b[0m \u001b[38;5;124;03m        commit_message (`str`):\u001b[39;00m\n\u001b[0;32m   3890\u001b[0m \u001b[38;5;124;03m            The summary (first line) of the commit that will be created.\u001b[39;00m\n\u001b[0;32m   3891\u001b[0m \n\u001b[0;32m   3892\u001b[0m \u001b[38;5;124;03m        commit_description (`str`, *optional*):\u001b[39;00m\n\u001b[0;32m   3893\u001b[0m \u001b[38;5;124;03m            The description of the commit that will be created\u001b[39;00m\n\u001b[0;32m   3894\u001b[0m \n\u001b[0;32m   3895\u001b[0m \u001b[38;5;124;03m        token (Union[bool, str, None], optional):\u001b[39;00m\n\u001b[0;32m   3896\u001b[0m \u001b[38;5;124;03m            A valid user access token (string). Defaults to the locally saved\u001b[39;00m\n\u001b[0;32m   3897\u001b[0m \u001b[38;5;124;03m            token, which is the recommended method for authentication (see\u001b[39;00m\n\u001b[0;32m   3898\u001b[0m \u001b[38;5;124;03m            https://huggingface.co/docs/huggingface_hub/quick-start#authentication).\u001b[39;00m\n\u001b[0;32m   3899\u001b[0m \u001b[38;5;124;03m            To disable authentication, pass `False`.\u001b[39;00m\n\u001b[0;32m   3900\u001b[0m \n\u001b[0;32m   3901\u001b[0m \u001b[38;5;124;03m        repo_type (`str`, *optional*):\u001b[39;00m\n\u001b[0;32m   3902\u001b[0m \u001b[38;5;124;03m            Set to `\"dataset\"` or `\"space\"` if uploading to a dataset or\u001b[39;00m\n\u001b[0;32m   3903\u001b[0m \u001b[38;5;124;03m            space, `None` or `\"model\"` if uploading to a model. Default is\u001b[39;00m\n\u001b[0;32m   3904\u001b[0m \u001b[38;5;124;03m            `None`.\u001b[39;00m\n\u001b[0;32m   3905\u001b[0m \n\u001b[0;32m   3906\u001b[0m \u001b[38;5;124;03m        revision (`str`, *optional*):\u001b[39;00m\n\u001b[0;32m   3907\u001b[0m \u001b[38;5;124;03m            The git revision to commit from. Defaults to the head of the `\"main\"` branch.\u001b[39;00m\n\u001b[0;32m   3908\u001b[0m \n\u001b[0;32m   3909\u001b[0m \u001b[38;5;124;03m        create_pr (`boolean`, *optional*):\u001b[39;00m\n\u001b[0;32m   3910\u001b[0m \u001b[38;5;124;03m            Whether or not to create a Pull Request with that commit. Defaults to `False`.\u001b[39;00m\n\u001b[0;32m   3911\u001b[0m \u001b[38;5;124;03m            If `revision` is not set, PR is opened against the `\"main\"` branch. If\u001b[39;00m\n\u001b[0;32m   3912\u001b[0m \u001b[38;5;124;03m            `revision` is set and is a branch, PR is opened against this branch. If\u001b[39;00m\n\u001b[0;32m   3913\u001b[0m \u001b[38;5;124;03m            `revision` is set and is not a branch name (example: a commit oid), an\u001b[39;00m\n\u001b[0;32m   3914\u001b[0m \u001b[38;5;124;03m            `RevisionNotFoundError` is returned by the server.\u001b[39;00m\n\u001b[0;32m   3915\u001b[0m \n\u001b[0;32m   3916\u001b[0m \u001b[38;5;124;03m        num_threads (`int`, *optional*):\u001b[39;00m\n\u001b[0;32m   3917\u001b[0m \u001b[38;5;124;03m            Number of concurrent threads for uploading files. Defaults to 5.\u001b[39;00m\n\u001b[0;32m   3918\u001b[0m \u001b[38;5;124;03m            Setting it to 2 means at most 2 files will be uploaded concurrently.\u001b[39;00m\n\u001b[0;32m   3919\u001b[0m \n\u001b[0;32m   3920\u001b[0m \u001b[38;5;124;03m        parent_commit (`str`, *optional*):\u001b[39;00m\n\u001b[0;32m   3921\u001b[0m \u001b[38;5;124;03m            The OID / SHA of the parent commit, as a hexadecimal string.\u001b[39;00m\n\u001b[0;32m   3922\u001b[0m \u001b[38;5;124;03m            Shorthands (7 first characters) are also supported. If specified and `create_pr` is `False`,\u001b[39;00m\n\u001b[0;32m   3923\u001b[0m \u001b[38;5;124;03m            the commit will fail if `revision` does not point to `parent_commit`. If specified and `create_pr`\u001b[39;00m\n\u001b[0;32m   3924\u001b[0m \u001b[38;5;124;03m            is `True`, the pull request will be created from `parent_commit`. Specifying `parent_commit`\u001b[39;00m\n\u001b[0;32m   3925\u001b[0m \u001b[38;5;124;03m            ensures the repo has not changed before committing the changes, and can be especially useful\u001b[39;00m\n\u001b[0;32m   3926\u001b[0m \u001b[38;5;124;03m            if the repo is updated / committed to concurrently.\u001b[39;00m\n\u001b[0;32m   3927\u001b[0m \u001b[38;5;124;03m        run_as_future (`bool`, *optional*):\u001b[39;00m\n\u001b[0;32m   3928\u001b[0m \u001b[38;5;124;03m            Whether or not to run this method in the background. Background jobs are run sequentially without\u001b[39;00m\n\u001b[0;32m   3929\u001b[0m \u001b[38;5;124;03m            blocking the main thread. Passing `run_as_future=True` will return a [Future](https://docs.python.org/3/library/concurrent.futures.html#future-objects)\u001b[39;00m\n\u001b[0;32m   3930\u001b[0m \u001b[38;5;124;03m            object. Defaults to `False`.\u001b[39;00m\n\u001b[0;32m   3931\u001b[0m \n\u001b[0;32m   3932\u001b[0m \u001b[38;5;124;03m    Returns:\u001b[39;00m\n\u001b[0;32m   3933\u001b[0m \u001b[38;5;124;03m        [`CommitInfo`] or `Future`:\u001b[39;00m\n\u001b[0;32m   3934\u001b[0m \u001b[38;5;124;03m            Instance of [`CommitInfo`] containing information about the newly created commit (commit hash, commit\u001b[39;00m\n\u001b[0;32m   3935\u001b[0m \u001b[38;5;124;03m            url, pr url, commit message,...). If `run_as_future=True` is passed, returns a Future object which will\u001b[39;00m\n\u001b[0;32m   3936\u001b[0m \u001b[38;5;124;03m            contain the result when executed.\u001b[39;00m\n\u001b[0;32m   3937\u001b[0m \n\u001b[0;32m   3938\u001b[0m \u001b[38;5;124;03m    Raises:\u001b[39;00m\n\u001b[0;32m   3939\u001b[0m \u001b[38;5;124;03m        [`ValueError`](https://docs.python.org/3/library/exceptions.html#ValueError)\u001b[39;00m\n\u001b[0;32m   3940\u001b[0m \u001b[38;5;124;03m            If commit message is empty.\u001b[39;00m\n\u001b[0;32m   3941\u001b[0m \u001b[38;5;124;03m        [`ValueError`](https://docs.python.org/3/library/exceptions.html#ValueError)\u001b[39;00m\n\u001b[0;32m   3942\u001b[0m \u001b[38;5;124;03m            If parent commit is not a valid commit OID.\u001b[39;00m\n\u001b[0;32m   3943\u001b[0m \u001b[38;5;124;03m        [`ValueError`](https://docs.python.org/3/library/exceptions.html#ValueError)\u001b[39;00m\n\u001b[0;32m   3944\u001b[0m \u001b[38;5;124;03m            If a README.md file with an invalid metadata section is committed. In this case, the commit will fail\u001b[39;00m\n\u001b[0;32m   3945\u001b[0m \u001b[38;5;124;03m            early, before trying to upload any file.\u001b[39;00m\n\u001b[0;32m   3946\u001b[0m \u001b[38;5;124;03m        [`ValueError`](https://docs.python.org/3/library/exceptions.html#ValueError)\u001b[39;00m\n\u001b[0;32m   3947\u001b[0m \u001b[38;5;124;03m            If `create_pr` is `True` and revision is neither `None` nor `\"main\"`.\u001b[39;00m\n\u001b[0;32m   3948\u001b[0m \u001b[38;5;124;03m        [`~utils.RepositoryNotFoundError`]:\u001b[39;00m\n\u001b[0;32m   3949\u001b[0m \u001b[38;5;124;03m            If repository is not found (error 404): wrong repo_id/repo_type, private\u001b[39;00m\n\u001b[0;32m   3950\u001b[0m \u001b[38;5;124;03m            but not authenticated or repo does not exist.\u001b[39;00m\n\u001b[0;32m   3951\u001b[0m \u001b[38;5;124;03m    \"\"\"\u001b[39;00m\n\u001b[0;32m   3952\u001b[0m     \u001b[38;5;28;01mif\u001b[39;00m parent_commit \u001b[38;5;129;01mis\u001b[39;00m \u001b[38;5;129;01mnot\u001b[39;00m \u001b[38;5;28;01mNone\u001b[39;00m \u001b[38;5;129;01mand\u001b[39;00m \u001b[38;5;129;01mnot\u001b[39;00m constants\u001b[38;5;241m.\u001b[39mREGEX_COMMIT_OID\u001b[38;5;241m.\u001b[39mfullmatch(parent_commit):\n\u001b[0;32m   3953\u001b[0m         \u001b[38;5;28;01mraise\u001b[39;00m \u001b[38;5;167;01mValueError\u001b[39;00m(\n\u001b[0;32m   3954\u001b[0m             \u001b[38;5;124mf\u001b[39m\u001b[38;5;124m\"\u001b[39m\u001b[38;5;124m`parent_commit` is not a valid commit OID. It must match the following regex: \u001b[39m\u001b[38;5;132;01m{\u001b[39;00mconstants\u001b[38;5;241m.\u001b[39mREGEX_COMMIT_OID\u001b[38;5;132;01m}\u001b[39;00m\u001b[38;5;124m\"\u001b[39m\n\u001b[0;32m   3955\u001b[0m         )\n",
      "File \u001b[1;32mc:\\Users\\jonas\\anaconda3\\envs\\DSL_NER\\Lib\\site-packages\\huggingface_hub\\utils\\_errors.py:352\u001b[0m, in \u001b[0;36mhf_raise_for_status\u001b[1;34m(response, endpoint_name)\u001b[0m\n",
      "\u001b[1;31mRepositoryNotFoundError\u001b[0m: 401 Client Error. (Request ID: Root=1-67531950-01ed35cc559dabcf0fdaf930;17af7290-78dc-4713-827e-b1fd46e699fa)\n\nRepository Not Found for url: https://huggingface.co/api/models/jruepp/merged_v2_gliner_multi-v2.1/commit/main.\nPlease make sure you specified the correct `repo_id` and `repo_type`.\nIf you are trying to access a private or gated repo, make sure you are authenticated.\nInvalid username or password.\nNote: Creating a commit assumes that the repo already exists on the Huggingface Hub. Please use `create_repo` if it's not the case."
     ]
    }
   ],
   "source": [
    "api.delete_folder(\"checkpoint-24000\",\"jruepp/merged_v2_gliner_multi-v2.1\")"
   ]
  }
 ],
 "metadata": {
  "kernelspec": {
   "display_name": "DSL_NER",
   "language": "python",
   "name": "python3"
  },
  "language_info": {
   "codemirror_mode": {
    "name": "ipython",
    "version": 3
   },
   "file_extension": ".py",
   "mimetype": "text/x-python",
   "name": "python",
   "nbconvert_exporter": "python",
   "pygments_lexer": "ipython3",
   "version": "3.11.10"
  }
 },
 "nbformat": 4,
 "nbformat_minor": 2
}
